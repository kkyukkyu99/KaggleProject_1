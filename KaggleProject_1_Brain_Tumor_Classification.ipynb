{
  "nbformat": 4,
  "nbformat_minor": 0,
  "metadata": {
    "colab": {
      "provenance": []
    },
    "kernelspec": {
      "name": "python3",
      "display_name": "Python 3"
    },
    "language_info": {
      "name": "python"
    }
  },
  "cells": [
    {
      "cell_type": "markdown",
      "source": [
        "# Kaggle Project-1\n",
        "# Brain Tumor MRI Classification\n",
        "- 출처: https://www.kaggle.com/datasets/sartajbhuvaji/brain-tumor-classification-mri\n",
        "- 목표: ImageDataGenerator와 TL(transfer learning)을 이용해서 과대적합을 최소화하여 90%이상의 정확도 달성\n",
        "  - 만약 목표를 달성하지 못한다면, 문제점과 해결 방안 모색"
      ],
      "metadata": {
        "id": "NdNqeaYVae28"
      }
    },
    {
      "cell_type": "markdown",
      "source": [
        "## Dataset"
      ],
      "metadata": {
        "id": "zsdNdkKkbAYL"
      }
    },
    {
      "cell_type": "code",
      "execution_count": 2,
      "metadata": {
        "colab": {
          "base_uri": "https://localhost:8080/"
        },
        "id": "e0ntqXqBabKf",
        "outputId": "3cfdc841-b2e2-46fc-fbf8-3c8d9aa5ad9d"
      },
      "outputs": [
        {
          "output_type": "stream",
          "name": "stdout",
          "text": [
            "Mounted at /content/drive\n"
          ]
        }
      ],
      "source": [
        "# 구글 마운트\n",
        "# Google mount\n",
        "from google.colab import drive\n",
        "drive.mount(\"/content/drive\")"
      ]
    },
    {
      "cell_type": "code",
      "source": [
        "# 현재 디렉토리 /content로 이미지 데이터 복사 후 현재 디렉토리 ROOT_DIR로 명명\n",
        "# Copy image data to /content and name /content as ROOT_DIR\n",
        "import shutil\n",
        "shutil.copy(os.path.join(\"/content/drive/MyDrive/Colab Notebooks/\", \"brain_tumor.zip\"), \"/content\")\n",
        "ROOT_DIR = \"/content\""
      ],
      "metadata": {
        "id": "VE8SHEAlj-n2"
      },
      "execution_count": 3,
      "outputs": []
    },
    {
      "cell_type": "code",
      "source": [
        "# brain_tumor 디렉토리 생성과 동시에 압축해제 후 brain_tumor 디렉토리 DATA_ROOT_DIR로 명명\n",
        "# Decompress data in brain_tumor dir and name brain_tumor dir as DATA_ROOT_DIR\n",
        "import zipfile\n",
        "with zipfile.ZipFile(os.path.join(ROOT_DIR, \"brain_tumor.zip\"), \"r\") as target_file:\n",
        "  target_file.extractall(\"/content/brain_tumor\")\n",
        "  DATA_ROOT_DIR = \"/content/brain_tumor\""
      ],
      "metadata": {
        "id": "umZe9e3rlIR-"
      },
      "execution_count": 4,
      "outputs": []
    },
    {
      "cell_type": "markdown",
      "source": [
        "## Path naming"
      ],
      "metadata": {
        "id": "Gd-Mty4fjSHX"
      }
    },
    {
      "cell_type": "code",
      "source": [
        "# brain_tumor 디렉토리에 Testing과 Training 디렉토리 확인 후\n",
        "# 각각 TEST_DATA_ROOT_DIR, TRIAN_DATA_ROOT_DIR로 명명\n",
        "# Name Testing dir and Training dir in brain_tumor dir as TEST_DATA_ROOT_DIR, TRAIN_DATA_ROOT_DIR\n",
        "TRIAN_DATA_ROOT_DIR = \"/content/brain_tumor/Training\"\n",
        "TEST_DATA_ROOT_DIR = \"/content/brain_tumor/Testing\""
      ],
      "metadata": {
        "id": "70tJbQeGmuHj"
      },
      "execution_count": 5,
      "outputs": []
    },
    {
      "cell_type": "markdown",
      "source": [
        "## Checking total number of data and labels"
      ],
      "metadata": {
        "id": "gy8anAPxo13d"
      }
    },
    {
      "cell_type": "code",
      "source": [
        "# number of Training data\n",
        "import os\n",
        "train_label_name_list = os.listdir(TRIAN_DATA_ROOT_DIR)\n",
        "print(train_label_name_list)\n",
        "\n",
        "for train_label_name in train_label_name_list:\n",
        "  print(train_label_name, \"=>\", len(os.listdir(os.path.join(TRIAN_DATA_ROOT_DIR, train_label_name))))"
      ],
      "metadata": {
        "colab": {
          "base_uri": "https://localhost:8080/"
        },
        "id": "p9Q5u6CXn9K8",
        "outputId": "b2d36ef0-73a3-4752-e3e9-8b86f60b75c4"
      },
      "execution_count": 9,
      "outputs": [
        {
          "output_type": "stream",
          "name": "stdout",
          "text": [
            "['pituitary_tumor', 'no_tumor', 'meningioma_tumor', 'glioma_tumor']\n",
            "pituitary_tumor => 827\n",
            "no_tumor => 395\n",
            "meningioma_tumor => 822\n",
            "glioma_tumor => 826\n"
          ]
        }
      ]
    },
    {
      "cell_type": "code",
      "source": [
        "# number of Testing data\n",
        "test_label_name_list = os.listdir(TEST_DATA_ROOT_DIR)\n",
        "print(test_label_name_list)\n",
        "\n",
        "for test_label_name in test_label_name_list:\n",
        "  print(test_label_name, \"=>\", len(os.listdir(os.path.join(TEST_DATA_ROOT_DIR, test_label_name))))"
      ],
      "metadata": {
        "colab": {
          "base_uri": "https://localhost:8080/"
        },
        "id": "oKL6mEgIo0l4",
        "outputId": "e63ccfea-65fa-432b-d423-f0f591bd8962"
      },
      "execution_count": 10,
      "outputs": [
        {
          "output_type": "stream",
          "name": "stdout",
          "text": [
            "['pituitary_tumor', 'no_tumor', 'meningioma_tumor', 'glioma_tumor']\n",
            "pituitary_tumor => 74\n",
            "no_tumor => 105\n",
            "meningioma_tumor => 115\n",
            "glioma_tumor => 100\n"
          ]
        }
      ]
    },
    {
      "cell_type": "markdown",
      "source": [
        "## Setting image shape"
      ],
      "metadata": {
        "id": "Qgp99Dk1rU-f"
      }
    },
    {
      "cell_type": "code",
      "source": [
        "IMG_WIDTH = 224\n",
        "IMG_HEIGHT = 224"
      ],
      "metadata": {
        "id": "XSoECgbWrFwP"
      },
      "execution_count": 12,
      "outputs": []
    },
    {
      "cell_type": "markdown",
      "source": [
        "## Importing data using ImageDataGenerator"
      ],
      "metadata": {
        "id": "_AMK89QArmFM"
      }
    },
    {
      "cell_type": "code",
      "source": [],
      "metadata": {
        "id": "Rc1myL5QrlCX"
      },
      "execution_count": null,
      "outputs": []
    },
    {
      "cell_type": "code",
      "source": [],
      "metadata": {
        "id": "yIr_IavdrUEA"
      },
      "execution_count": null,
      "outputs": []
    }
  ]
}